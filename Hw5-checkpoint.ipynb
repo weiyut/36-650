{
 "cells": [
  {
   "cell_type": "code",
   "execution_count": null,
   "metadata": {},
   "outputs": [],
   "source": [
    "def transpose(mat):\n",
    "    result = [[mat[i][j] for i in range(len(mat))] for j in range(len(mat[0]))]\n",
    "    return result\n",
    "\n",
    "x = [[10,8],[2,4], [1,7]]\n",
    "transpose(x)"
   ]
  }
 ],
 "metadata": {
  "kernelspec": {
   "display_name": "Python 3",
   "language": "python",
   "name": "python3"
  },
  "language_info": {
   "codemirror_mode": {
    "name": "ipython",
    "version": 3
   },
   "file_extension": ".py",
   "mimetype": "text/x-python",
   "name": "python",
   "nbconvert_exporter": "python",
   "pygments_lexer": "ipython3",
   "version": "3.8.5"
  }
 },
 "nbformat": 4,
 "nbformat_minor": 4
}
